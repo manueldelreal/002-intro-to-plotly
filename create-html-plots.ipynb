{
 "cells": [
  {
   "cell_type": "markdown",
   "id": "3708722e",
   "metadata": {},
   "source": [
    "# Create HTML plots with python\n",
    "* The purpose of this notebook is to demonstrate how to create a series of plots that can be used as part of a static webpage.\n",
    "* The html figures which you generate will be used in your static webpage\n",
    "* Source: https://plotly.com/python/linear-fits/"
   ]
  },
  {
   "cell_type": "markdown",
   "id": "c809178d",
   "metadata": {},
   "source": [
    "### Take a look at the data"
   ]
  },
  {
   "cell_type": "markdown",
   "id": "ae06e16d-53ad-4eb0-bae9-a43a8ba25490",
   "metadata": {},
   "source": [
    "Prior to running the notebook, you may need to install some libraries in your environment. You can read about plotly [here](https://plotly.com/python/getting-started/) but the step is pretty simple: in a new cell, run the following code. ```! conda install plotly```"
   ]
  },
  {
   "cell_type": "code",
   "execution_count": null,
   "id": "ce4ed245-de83-431f-9a55-c7090ad36c8d",
   "metadata": {},
   "outputs": [
    {
     "name": "stdout",
     "output_type": "stream",
     "text": [
      "Collecting package metadata (current_repodata.json): done\n",
      "Solving environment: done\n",
      "\n",
      "\n",
      "==> WARNING: A newer version of conda exists. <==\n",
      "  current version: 4.10.3\n",
      "  latest version: 4.13.0\n",
      "\n",
      "Please update conda by running\n",
      "\n",
      "    $ conda update -n base conda\n",
      "\n",
      "\n",
      "\n",
      "## Package Plan ##\n",
      "\n",
      "  environment location: /home/studio-lab-user/.conda/envs/default\n",
      "\n",
      "  added / updated specs:\n",
      "    - plotly_express\n",
      "\n",
      "\n",
      "The following packages will be downloaded:\n",
      "\n",
      "    package                    |            build\n",
      "    ---------------------------|-----------------\n",
      "    libblas-3.9.0              |15_linux64_openblas          12 KB  conda-forge\n",
      "    libcblas-3.9.0             |15_linux64_openblas          12 KB  conda-forge\n",
      "    libgcc-ng-12.1.0           |      h8d9b700_16         940 KB  conda-forge\n",
      "    libgfortran-ng-12.1.0      |      h69a702a_16          23 KB  conda-forge\n",
      "    libgfortran5-12.1.0        |      hdcd56e2_16         1.8 MB  conda-forge\n",
      "    libgomp-12.1.0             |      h8d9b700_16         459 KB  conda-forge\n",
      "    liblapack-3.9.0            |15_linux64_openblas          12 KB  conda-forge\n",
      "    libopenblas-0.3.20         |pthreads_h78a6416_0        10.1 MB  conda-forge\n",
      "    libstdcxx-ng-12.1.0        |      ha89aaad_16         4.3 MB  conda-forge\n",
      "    numpy-1.23.0               |   py39hba7629e_0         7.0 MB  conda-forge\n",
      "    openssl-3.0.4              |       h166bdaf_2         2.9 MB  conda-forge\n",
      "    pandas-1.4.3               |   py39h1832856_0        12.5 MB  conda-forge\n",
      "    patsy-0.5.2                |     pyhd8ed1ab_0         188 KB  conda-forge\n",
      "    plotly-5.9.0               |             py_0         6.9 MB  plotly\n",
      "    plotly_express-0.4.1       |             py_0           5 KB  plotly\n",
      "    pytz-2022.1                |     pyhd8ed1ab_0         242 KB  conda-forge\n",
      "    scipy-1.8.1                |   py39he49c0e8_0        24.9 MB  conda-forge\n",
      "    statsmodels-0.13.2         |   py39hd257fcd_0        11.1 MB  conda-forge\n",
      "    ------------------------------------------------------------\n",
      "                                           Total:        83.4 MB\n",
      "\n",
      "The following NEW packages will be INSTALLED:\n",
      "\n",
      "  libblas            conda-forge/linux-64::libblas-3.9.0-15_linux64_openblas\n",
      "  libcblas           conda-forge/linux-64::libcblas-3.9.0-15_linux64_openblas\n",
      "  libgfortran-ng     conda-forge/linux-64::libgfortran-ng-12.1.0-h69a702a_16\n",
      "  libgfortran5       conda-forge/linux-64::libgfortran5-12.1.0-hdcd56e2_16\n",
      "  liblapack          conda-forge/linux-64::liblapack-3.9.0-15_linux64_openblas\n",
      "  libopenblas        conda-forge/linux-64::libopenblas-0.3.20-pthreads_h78a6416_0\n",
      "  numpy              conda-forge/linux-64::numpy-1.23.0-py39hba7629e_0\n",
      "  pandas             conda-forge/linux-64::pandas-1.4.3-py39h1832856_0\n",
      "  patsy              conda-forge/noarch::patsy-0.5.2-pyhd8ed1ab_0\n",
      "  plotly             plotly/noarch::plotly-5.9.0-py_0\n",
      "  plotly_express     plotly/noarch::plotly_express-0.4.1-py_0\n",
      "  pytz               conda-forge/noarch::pytz-2022.1-pyhd8ed1ab_0\n",
      "  scipy              conda-forge/linux-64::scipy-1.8.1-py39he49c0e8_0\n",
      "  statsmodels        conda-forge/linux-64::statsmodels-0.13.2-py39hd257fcd_0\n",
      "  tenacity           conda-forge/noarch::tenacity-8.0.1-pyhd8ed1ab_0\n",
      "\n",
      "The following packages will be UPDATED:\n",
      "\n",
      "  ca-certificates                      2021.10.8-ha878542_0 --> 2022.6.15-ha878542_0\n",
      "  libgcc-ng                              11.2.0-h1d223b6_16 --> 12.1.0-h8d9b700_16\n",
      "  libgomp                                11.2.0-h1d223b6_16 --> 12.1.0-h8d9b700_16\n",
      "  libstdcxx-ng                           11.2.0-he4da1e4_16 --> 12.1.0-ha89aaad_16\n",
      "  openssl                                  3.0.3-h166bdaf_0 --> 3.0.4-h166bdaf_2\n",
      "\n",
      "\n",
      "\n",
      "Downloading and Extracting Packages\n",
      "scipy-1.8.1          | 24.9 MB   | ##################################### | 100% \n",
      "libstdcxx-ng-12.1.0  | 4.3 MB    | ##################################### | 100% \n",
      "libopenblas-0.3.20   | 10.1 MB   | ##################################### | 100% \n",
      "liblapack-3.9.0      | 12 KB     | ##################################### | 100% \n",
      "numpy-1.23.0         | 7.0 MB    | ##################################### | 100% \n",
      "libcblas-3.9.0       | 12 KB     | ##################################### | 100% \n",
      "libblas-3.9.0        | 12 KB     | ##################################### | 100% \n",
      "plotly-5.9.0         | 6.9 MB    | ##################################### | 100% \n",
      "pytz-2022.1          | 242 KB    | ##################################### | 100% \n",
      "patsy-0.5.2          | 188 KB    | ##################################### | 100% \n",
      "libgomp-12.1.0       | 459 KB    | ##################################### | 100% \n",
      "libgcc-ng-12.1.0     | 940 KB    | ##################################### | 100% \n",
      "libgfortran5-12.1.0  | 1.8 MB    | ##################################### | 100% \n",
      "statsmodels-0.13.2   | 11.1 MB   | ##################################### | 100% \n",
      "libgfortran-ng-12.1. | 23 KB     | ##################################### | 100% \n",
      "plotly_express-0.4.1 | 5 KB      | ##################################### | 100% \n",
      "pandas-1.4.3         | 12.5 MB   | ##################################### | 100% \n",
      "openssl-3.0.4        | 2.9 MB    | ##################################### | 100% \n",
      "Preparing transaction: done\n",
      "Verifying transaction: done\n",
      "Executing transaction: done\n",
      "Collecting package metadata (current_repodata.json): done\n",
      "Solving environment: done\n",
      "\n",
      "\n",
      "==> WARNING: A newer version of conda exists. <==\n",
      "  current version: 4.10.3\n",
      "  latest version: 4.13.0\n",
      "\n",
      "Please update conda by running\n",
      "\n",
      "    $ conda update -n base conda\n",
      "\n",
      "\n",
      "\n",
      "# All requested packages already installed.\n",
      "\n",
      "Collecting package metadata (current_repodata.json): / "
     ]
    }
   ],
   "source": [
    " ! conda install -c plotly plotly_express  -y\n",
    " ! conda install pandas -y\n",
    " ! conda install numpy -y"
   ]
  },
  {
   "cell_type": "code",
   "execution_count": null,
   "id": "090798a5",
   "metadata": {},
   "outputs": [],
   "source": [
    "# import the python libraries\n",
    "\n",
    "import numpy as np\n",
    "import pandas as pd\n",
    "import plotly.graph_objs as go\n",
    "import plotly.express as px"
   ]
  },
  {
   "cell_type": "markdown",
   "id": "fe51b65f-30fc-48d9-9d06-9824721472b4",
   "metadata": {},
   "source": [
    "# Create a bar chart"
   ]
  },
  {
   "cell_type": "code",
   "execution_count": null,
   "id": "b4f188df-e5d4-4391-841f-329b6f83ce7a",
   "metadata": {},
   "outputs": [],
   "source": [
    "# define some variables\n",
    "x_values=['Monday', 'Tuesday', 'Wednesday', 'Thursday', 'Friday']\n",
    "y_values=[15, 12, 8, 20, 19]\n",
    "\n",
    "# create the data trace\n",
    "trace =go.Bar(x=x_values, \n",
    "              y=y_values,\n",
    "              # marker={'color':['#FAB303','blue','green', 'red', '#ff5733' ]}\n",
    "             )\n",
    "\n",
    "# combine into a figure\n",
    "fig = go.Figure([trace])\n",
    "fig"
   ]
  },
  {
   "cell_type": "code",
   "execution_count": null,
   "id": "0dcc8b57-41b5-4dd6-ad86-dce0535bb4cb",
   "metadata": {},
   "outputs": [],
   "source": [
    "# save your image as an html file\n",
    "fig.write_html('bar_chart.html')"
   ]
  },
  {
   "cell_type": "markdown",
   "id": "34785f89-2d93-43e7-9d54-57d6b67ca220",
   "metadata": {},
   "source": [
    "# Pie chart"
   ]
  },
  {
   "cell_type": "code",
   "execution_count": null,
   "id": "2197515e-9f34-4511-96d8-5e0442761e97",
   "metadata": {},
   "outputs": [],
   "source": [
    "# define some variables\n",
    "gas = ['Oxygen','Hydrogen','Carbon Dioxide','Nitrogen']\n",
    "volume = [4500,2500,1053,500]\n",
    "\n",
    "# create the data trace\n",
    "trace = go.Pie(labels=gas, \n",
    "               values=volume\n",
    "              )\n",
    "\n",
    "# combine into a figure\n",
    "fig = go.Figure([trace])\n",
    "fig.update_traces(textinfo='value')\n",
    "fig"
   ]
  },
  {
   "cell_type": "code",
   "execution_count": null,
   "id": "fbc7aa4f-da3c-45bb-a677-31b0be2e7a27",
   "metadata": {},
   "outputs": [],
   "source": [
    "# save your image as an html file\n",
    "fig.write_html('docs/pie_chart.html')"
   ]
  },
  {
   "cell_type": "markdown",
   "id": "e055ff79-9d7e-4757-9a63-1525a890d69c",
   "metadata": {},
   "source": [
    "# Line chart"
   ]
  },
  {
   "cell_type": "code",
   "execution_count": null,
   "id": "82a2f119-a627-4980-9489-0a7be61ba2d0",
   "metadata": {},
   "outputs": [],
   "source": [
    "# define some variables\n",
    "x_values=[1980, 1990, 2000, 2010, 2020]\n",
    "y1_values=[6, 5, 7, 2, 8]\n",
    "y2_values=[9, 15, 5, 6, 10]\n",
    "\n",
    "# create the data trace\n",
    "trace1 =go.Scatter(x=x_values,\n",
    "                  y=y1_values,\n",
    "                  mode = 'lines')\n",
    "trace2 =go.Scatter(x=x_values,\n",
    "                  y=y2_values,\n",
    "                  mode = 'lines')\n",
    "\n",
    "# combine into a figure\n",
    "fig = go.Figure([trace1, trace2])\n",
    "fig"
   ]
  },
  {
   "cell_type": "markdown",
   "id": "9faf0b00-2822-4bb3-9d62-6f2bedb94736",
   "metadata": {},
   "source": [
    "# Scatterplot"
   ]
  },
  {
   "cell_type": "code",
   "execution_count": null,
   "id": "ac71a6fd-cbff-43eb-a7e5-732b1248de6a",
   "metadata": {},
   "outputs": [],
   "source": [
    "# define some variables\n",
    "random_x = np.random.randn(1000)\n",
    "random_y = np.random.randn(1000)\n",
    "\n",
    "# Create three data traces\n",
    "trace1 = go.Scatter(\n",
    "    x = random_x,\n",
    "    y = random_y,\n",
    "    mode = 'markers'\n",
    ")\n",
    "\n",
    "trace2 = go.Scatter(\n",
    "    x = random_x**2,\n",
    "    y = random_y**2,\n",
    "    mode = 'markers'\n",
    ")\n",
    "\n",
    "trace3 = go.Scatter(\n",
    "    x = random_y**2,\n",
    "    y = random_x**2,\n",
    "    mode = 'markers',\n",
    "   \n",
    ")\n",
    "\n",
    "# combine into a figure\n",
    "data = [trace1, trace2, trace3]\n",
    "fig = go.Figure(data)\n",
    "fig"
   ]
  },
  {
   "cell_type": "markdown",
   "id": "d95f88c3-7c7d-46d9-b17f-b42f9f1e27f2",
   "metadata": {},
   "source": [
    "## Create plots using datasets"
   ]
  },
  {
   "cell_type": "code",
   "execution_count": null,
   "id": "d35b841a",
   "metadata": {},
   "outputs": [],
   "source": [
    "# import a dataset about tips at restaurants\n",
    "df = px.data.tips()\n",
    "df.head(3)"
   ]
  },
  {
   "cell_type": "code",
   "execution_count": null,
   "id": "33e59784",
   "metadata": {},
   "outputs": [],
   "source": [
    "# add changes by removing the # sign\n",
    "scatter_fig = px.scatter(df, \n",
    "                         x='total_bill', \n",
    "                         y='tip'\n",
    "                        )\n",
    "scatter_fig.show()"
   ]
  },
  {
   "cell_type": "code",
   "execution_count": null,
   "id": "6274a6b4",
   "metadata": {},
   "outputs": [],
   "source": [
    "# save your figure as an html file\n",
    "scatter_fig.write_html('docs/scatter_fig.html')"
   ]
  },
  {
   "cell_type": "markdown",
   "id": "b4994075",
   "metadata": {},
   "source": [
    "### Add size and color"
   ]
  },
  {
   "cell_type": "code",
   "execution_count": null,
   "id": "ea30bd0e",
   "metadata": {},
   "outputs": [],
   "source": [
    "# add changes by removing the # sign\n",
    "time_fig = px.scatter(df, \n",
    "                 x=\"total_bill\", \n",
    "                 y=\"tip\", \n",
    "                 color='time',\n",
    "                 opacity=0.65,\n",
    "                 size='size',\n",
    "                 color_discrete_sequence=['green', 'orange']\n",
    "                )\n",
    "time_fig.show()"
   ]
  },
  {
   "cell_type": "code",
   "execution_count": null,
   "id": "3d03f1bf",
   "metadata": {},
   "outputs": [],
   "source": [
    "# save your figure\n",
    "time_fig.write_html('docs/bill_fig.html')"
   ]
  },
  {
   "cell_type": "code",
   "execution_count": null,
   "id": "aa8f90ba",
   "metadata": {},
   "outputs": [],
   "source": [
    "# new dataset\n",
    "df = px.data.iris()\n",
    "# create figure\n",
    "fig = px.scatter_3d(df, \n",
    "                    x='sepal_length', \n",
    "                    y='sepal_width', \n",
    "                    z='petal_width',\n",
    "                    color='species')\n",
    "fig"
   ]
  },
  {
   "cell_type": "code",
   "execution_count": null,
   "id": "b1d3f136-4c5f-424b-9642-33107d62ed22",
   "metadata": {},
   "outputs": [],
   "source": [
    "# change colors and symbol\n",
    "fig = px.scatter_3d(df, \n",
    "                    x='sepal_length', \n",
    "                    y='sepal_width', \n",
    "                    z='petal_width',\n",
    "                    color='petal_length', \n",
    "                    size='petal_length', \n",
    "                    size_max=18,\n",
    "                    symbol='species', \n",
    "                    opacity=0.7)\n",
    "fig"
   ]
  },
  {
   "cell_type": "code",
   "execution_count": null,
   "id": "f35e3c1f",
   "metadata": {},
   "outputs": [],
   "source": [
    "# save your figure\n",
    "fig.write_html('docs/3d_fig.html')"
   ]
  },
  {
   "cell_type": "markdown",
   "id": "9a086086",
   "metadata": {},
   "source": [
    "## Try comparing two groups"
   ]
  },
  {
   "cell_type": "code",
   "execution_count": null,
   "id": "d1065b8f",
   "metadata": {},
   "outputs": [],
   "source": [
    "# new dataset\n",
    "wide_df = px.data.medals_wide()\n",
    "wide_df\n"
   ]
  },
  {
   "cell_type": "code",
   "execution_count": null,
   "id": "493dd3da-ad0f-43a2-bcf0-ed9aef395950",
   "metadata": {},
   "outputs": [],
   "source": [
    "# create figure\n",
    "fig = px.bar(wide_df, \n",
    "             x=\"nation\", \n",
    "             y=[\"gold\", \"silver\", \"bronze\"], \n",
    "             title=\"Wide-Form Input\"\n",
    "            )\n",
    "fig.show()"
   ]
  },
  {
   "cell_type": "code",
   "execution_count": null,
   "id": "951111af",
   "metadata": {},
   "outputs": [],
   "source": [
    "df = px.data.tips()\n",
    "fig = px.histogram(df, \n",
    "                   x=\"sex\", \n",
    "                   y=\"total_bill\",\n",
    "                   color='smoker', \n",
    "                   barmode='group',\n",
    "                   height=400\n",
    "                  )\n",
    "fig"
   ]
  }
 ],
 "metadata": {
  "kernelspec": {
   "display_name": "default:Python",
   "language": "python",
   "name": "conda-env-default-py"
  },
  "language_info": {
   "codemirror_mode": {
    "name": "ipython",
    "version": 3
   },
   "file_extension": ".py",
   "mimetype": "text/x-python",
   "name": "python",
   "nbconvert_exporter": "python",
   "pygments_lexer": "ipython3",
   "version": "3.9.12"
  }
 },
 "nbformat": 4,
 "nbformat_minor": 5
}
